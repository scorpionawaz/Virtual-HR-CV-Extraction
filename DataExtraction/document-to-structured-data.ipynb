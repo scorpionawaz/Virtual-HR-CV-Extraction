{
 "cells": [
  {
   "cell_type": "markdown",
   "metadata": {},
   "source": [
    "# Document to Structured Data"
   ]
  },
  {
   "cell_type": "code",
   "execution_count": 1,
   "metadata": {},
   "outputs": [],
   "source": [
    "%load_ext autoreload\n",
    "%autoreload 2\n",
    "\n",
    "from IPython.core.interactiveshell import InteractiveShell\n",
    "InteractiveShell.ast_node_interactivity = \"all\""
   ]
  },
  {
   "cell_type": "markdown",
   "metadata": {},
   "source": [
    "## Set Up Azure OpenAI"
   ]
  },
  {
   "cell_type": "code",
   "execution_count": 2,
   "metadata": {},
   "outputs": [
    {
     "name": "stdout",
     "output_type": "stream",
     "text": [
      "openai version:  0.27.8\n"
     ]
    },
    {
     "data": {
      "text/plain": [
       "False"
      ]
     },
     "execution_count": 2,
     "metadata": {},
     "output_type": "execute_result"
    }
   ],
   "source": [
    "import os\n",
    "import openai\n",
    "from dotenv import load_dotenv\n",
    "\n",
    "print('openai version: ', openai.__version__)\n",
    "\n",
    "# Set up Azure OpenAI\n",
    "load_dotenv()\n",
    "openai.api_type = \"azure\"\n",
    "openai.api_base = \"https://cog-z6b6grosjkvfy.openai.azure.com/\"\n",
    "openai.api_version = \"2023-03-15-preview\"\n",
    "openai.api_key = \"cdce6e9e7c774c44a42677efcdec8f38\"\n"
   ]
  },
  {
   "cell_type": "markdown",
   "metadata": {},
   "source": [
    "## Deploy a Model"
   ]
  },
  {
   "cell_type": "code",
   "execution_count": 3,
   "metadata": {},
   "outputs": [
    {
     "name": "stdout",
     "output_type": "stream",
     "text": [
      "{\n",
      "  \"capabilities\": {\n",
      "    \"fine_tune\": false,\n",
      "    \"inference\": true,\n",
      "    \"completion\": true,\n",
      "    \"chat_completion\": false,\n",
      "    \"embeddings\": false,\n",
      "    \"scale_types\": [\n",
      "      \"standard\"\n",
      "    ]\n",
      "  },\n",
      "  \"lifecycle_status\": \"preview\",\n",
      "  \"deprecation\": {\n",
      "    \"inference\": 1727654400\n",
      "  },\n",
      "  \"id\": \"text-davinci-003\",\n",
      "  \"status\": \"succeeded\",\n",
      "  \"created_at\": 1664496000,\n",
      "  \"updated_at\": 1664496000,\n",
      "  \"object\": \"model\"\n",
      "}\n",
      "{\n",
      "  \"capabilities\": {\n",
      "    \"fine_tune\": false,\n",
      "    \"inference\": true,\n",
      "    \"completion\": true,\n",
      "    \"chat_completion\": true,\n",
      "    \"embeddings\": false,\n",
      "    \"scale_types\": [\n",
      "      \"standard\"\n",
      "    ]\n",
      "  },\n",
      "  \"lifecycle_status\": \"generally-available\",\n",
      "  \"deprecation\": {\n",
      "    \"inference\": 1696118400\n",
      "  },\n",
      "  \"id\": \"gpt-35-turbo\",\n",
      "  \"status\": \"succeeded\",\n",
      "  \"created_at\": 1678320000,\n",
      "  \"updated_at\": 1678320000,\n",
      "  \"object\": \"model\"\n",
      "}\n",
      "{\n",
      "  \"capabilities\": {\n",
      "    \"fine_tune\": false,\n",
      "    \"inference\": true,\n",
      "    \"completion\": false,\n",
      "    \"chat_completion\": true,\n",
      "    \"embeddings\": false,\n",
      "    \"scale_types\": [\n",
      "      \"standard\"\n",
      "    ]\n",
      "  },\n",
      "  \"lifecycle_status\": \"generally-available\",\n",
      "  \"deprecation\": {\n",
      "    \"inference\": 1696118400\n",
      "  },\n",
      "  \"id\": \"gpt-4-32k\",\n",
      "  \"status\": \"succeeded\",\n",
      "  \"created_at\": 1679356800,\n",
      "  \"updated_at\": 1679356800,\n",
      "  \"object\": \"model\"\n",
      "}\n",
      "Found a succeeded deployment of \"gpt-4-32k\" that supports text chat_completion with id: deployment-3c6db6402daa415ab46a16cc3adae389.\n"
     ]
    }
   ],
   "source": [
    "# id of desired_model\n",
    "desired_model = 'gpt-4-32k' \n",
    "desired_capability = 'chat_completion' # apply as completion, since gpt-4 is only released as chat in Azure OpenAI\n",
    "\n",
    "# list models deployed with\n",
    "deployment_id = None\n",
    "result = openai.Deployment.list()\n",
    "\n",
    "for deployment in result.data:\n",
    "    if deployment[\"status\"] != \"succeeded\":\n",
    "        continue\n",
    "    \n",
    "    model = openai.Model.retrieve(deployment[\"model\"])\n",
    "    print(model)\n",
    "    # check if desired_model is deployed, and if it has 'completion' capability\n",
    "    if model[\"id\"] == desired_model and model['capabilities'][desired_capability]:\n",
    "        deployment_id = deployment[\"id\"]\n",
    "        \n",
    "# if no model deployed, deploy one\n",
    "if not deployment_id:\n",
    "    print('No deployment with status: succeeded found.')\n",
    "\n",
    "    # Deploy the model\n",
    "    print(f'Creating a new deployment with model: {desired_model}')\n",
    "    result = openai.Deployment.create(model=desired_model, scale_settings={\"scale_type\":\"standard\"})\n",
    "    deployment_id = result[\"id\"]\n",
    "    print(f'Successfully created {desired_model} that supports text {desired_capability} with id: {deployment_id}.')\n",
    "else:\n",
    "    print(f'Found a succeeded deployment of \"{desired_model}\" that supports text {desired_capability} with id: {deployment_id}.')"
   ]
  },
  {
   "cell_type": "markdown",
   "metadata": {},
   "source": [
    "## Request API"
   ]
  },
  {
   "cell_type": "code",
   "execution_count": 4,
   "metadata": {},
   "outputs": [
    {
     "data": {
      "text/plain": [
       "<OpenAIObject chat.completion id=chatcmpl-7RRSIzkqcZNE3Ut0Ban5U8ol4u91Z at 0x1a8f8a409b0> JSON: {\n",
       "  \"id\": \"chatcmpl-7RRSIzkqcZNE3Ut0Ban5U8ol4u91Z\",\n",
       "  \"object\": \"chat.completion\",\n",
       "  \"created\": 1686774750,\n",
       "  \"model\": \"gpt-4-32k\",\n",
       "  \"choices\": [\n",
       "    {\n",
       "      \"index\": 0,\n",
       "      \"finish_reason\": \"stop\",\n",
       "      \"message\": {\n",
       "        \"role\": \"assistant\",\n",
       "        \"content\": \"I am an AI language model, and I am here to help answer your questions and have a conversation with you.\"\n",
       "      }\n",
       "    }\n",
       "  ],\n",
       "  \"usage\": {\n",
       "    \"completion_tokens\": 23,\n",
       "    \"prompt_tokens\": 11,\n",
       "    \"total_tokens\": 34\n",
       "  }\n",
       "}"
      ]
     },
     "execution_count": 4,
     "metadata": {},
     "output_type": "execute_result"
    }
   ],
   "source": [
    "response = openai.ChatCompletion.create(\n",
    "  engine = deployment_id,\n",
    "  messages = [{\"role\":\"user\",\"content\":\"who are you?\"},],\n",
    "  temperature=0.5,\n",
    "  max_tokens=6000,\n",
    "  top_p=0.95,\n",
    "  frequency_penalty=0,\n",
    "  presence_penalty=0, \n",
    "  stop=None)\n",
    "\n",
    "response"
   ]
  },
  {
   "cell_type": "code",
   "execution_count": 5,
   "metadata": {},
   "outputs": [
    {
     "data": {
      "text/plain": [
       "'assistant'"
      ]
     },
     "execution_count": 5,
     "metadata": {},
     "output_type": "execute_result"
    },
    {
     "data": {
      "text/plain": [
       "'I am an AI language model, and I am here to help answer your questions and have a conversation with you.'"
      ]
     },
     "execution_count": 5,
     "metadata": {},
     "output_type": "execute_result"
    }
   ],
   "source": [
    "response['choices'][0]['message']['role']\n",
    "response['choices'][0]['message']['content']"
   ]
  },
  {
   "cell_type": "code",
   "execution_count": 6,
   "metadata": {},
   "outputs": [],
   "source": [
    "def request_api(messages, deployment_id):\n",
    "    response = openai.ChatCompletion.create(\n",
    "        engine = deployment_id,\n",
    "        messages = messages,\n",
    "        temperature=0,\n",
    "        max_tokens=6000,\n",
    "        top_p=0.95,\n",
    "        frequency_penalty=0,\n",
    "        presence_penalty=0,\n",
    "        stop='###')\n",
    "    return response"
   ]
  },
  {
   "cell_type": "markdown",
   "metadata": {},
   "source": [
    "## Get Structured Data"
   ]
  },
  {
   "cell_type": "code",
   "execution_count": 7,
   "metadata": {},
   "outputs": [],
   "source": [
    "def get_structured_data(document, prompt_postfix, deployment_id):\n",
    "    content = prompt_postfix.replace('<document>', document)\n",
    "    messages = [{\"role\":\"user\",\"content\":content},]; #print(messages)\n",
    "\n",
    "    structured_data = request_api(messages, deployment_id)\n",
    "    return structured_data"
   ]
  },
  {
   "cell_type": "markdown",
   "metadata": {},
   "source": [
    "### Document Type: Resume"
   ]
  },
  {
   "cell_type": "code",
   "execution_count": 8,
   "metadata": {},
   "outputs": [
    {
     "name": "stdout",
     "output_type": "stream",
     "text": [
      "Contact\n",
      " chew.yean.yam@gmail.com\n",
      " www.linkedin.com/in/cyyam\n",
      " (LinkedIn)\n",
      " Top Skills\n",
      " Research\n",
      " Microarray Analysis\n",
      " OpenCV\n",
      " Languages\n",
      " English (Native or Bilingual)\n",
      " Malay (Professional Working)\n",
      " Mandarin (Native or Bilingual)\n",
      " Cantonese (Native or Bilingual)\n",
      " Certifications\n",
      " Uncovering Your Authentic Self at\n",
      " Work\n",
      " Worldwide Communities -\n",
      " Community SME 2018\n",
      " Fred Kofman on Managing Conflict\n",
      " Chew-Yean Yam\n",
      " AI Leader & Practitioner | Data Science | Machine Learning | AI\n",
      " Strategy\n",
      " United Kingdom\n",
      " Summary\n",
      " Over 20 years of industrial and applied research experience with\n",
      " global advanced technology companies and internationally renowned\n",
      " research institutions: Microsoft, Intel, HP Labs, Agency for Science\n",
      " Technology & Research, British Aerospace Engineering, National\n",
      " Physical Laboratory (UK).\n",
      " I build and lead Data Science and Machine Learning specialist teams\n",
      " to design and develop AI applications with start-ups and established\n",
      " enterprises. I advise on their AI strategies, identify commercial\n",
      " opportunities and code with them to deployment. Experienced in\n",
      " incubation of new AI capabilities for products.\n",
      " Experience in:\n",
      " Hands-on data driven and machine learning algorithms: classical\n",
      " and deep learning, applied to computer vision, text analytics,\n",
      " time-series, predictive models, from conception, architecting to\n",
      " deployment. Applied in wide range of domains and industries:\n",
      " biometrics, unmanned air vehicles, ecommerce, advertising, areal\n",
      " sensing, conservation, security, finance, insurance, transport, media\n",
      " entertainment, gaming.\n",
      " Giving back:\n",
      " I actively help and advice women who wants to get into STEM\n",
      " career through active involvements via Women Tech Hub (https://\n",
      " www.wthub.org/), run Data Science and Machine Learning\n",
      " Workshop on a regular basis and has been on Advisory Board for\n",
      " Data Science and Machine Learning, University of Bristol.\n",
      " Experience\n",
      " Microsoft\n",
      " 8 years 2 months\n",
      " Page 1 of 7\n",
      " \n",
      " Bristol, United Kingdom\n",
      " The vision of this community group is to empower every single person in\n",
      " Bristol and surrounding areas to achieve quality Machine Learning and Data\n",
      " Science knowledge, so that they can go on and do great things that benefit the\n",
      " quality of life of fellow earth citizens.\n",
      " https://www.meetup.com/Bristol-Data-Science-and-Machine-Learning-StudyGroup/\n",
      " \n",
      " Application domains:\n",
      " - Text Document Analysis - Event Detection and Extraction\n",
      " - Health Impact Assessment\n",
      " - Unmanned Aerial Vehicle (UAV) - ASTREA. http://astraea.aero/\n",
      " Hewlett-Packard Laboratories\n",
      " Research Scientist\n",
      " November 2010 - October 2012 (2 years)\n",
      " Application domains:\n",
      " - Cloud Computing Stewardship and Economics.\n",
      " Page 3 of 7\n",
      " - Discrete event model and simulation of interaction within cloud computing\n",
      " ecosystem to predict consequences of information stewardship issues and\n",
      " economics implications in cloud computing adoption.\n",
      " Publications:\n",
      " \n",
      " Application domains:\n",
      " - Biometrics, Anti-Counterfeit(Bank notes, Barcode, Printing on packaging)\n",
      " - Error Analysis in 3-D Face Reconstruction, Image Correlation, Uncertainty\n",
      " propagation through an imaging system.\n",
      " - Design, develop, implement complex experiments, gather and process\n",
      " large data set, perform statistical data analysis, draw conclusions and provide\n",
      " recommendations backed by scientific facts to improve product.\n",
      " Business Development:\n",
      " - Negotiate and liaise with international customers to win contracts.\n",
      " - Translate business requirement into technical specification.\n",
      " Publication:\n",
      " R. Dudley, T. Esward, T. Goodman, A. Horgan, T. Koukoulas, R. Montgomery,\n",
      " A. Shard, F. Tuffy and C.-Y. Yam, Measurements to support anti-counterfeiting\n",
      " and authentication: a new project at the UKs National Physical Laboratory, 3rd\n",
      " Authentication Connections Forum, Prague, Reconnaissance International,\n",
      " 2008.\n",
      " University of Southampton, Electronics and Computer Science\n",
      " Page 4 of 7\n",
      " Research Scientist\n",
      " January 2007 - September 2007 (9 months)\n",
      " Largest in UK, 5* in Research Assessment Exercises, 'Best 5*' in Higher\n",
      " Education Funding Council.\n",
      " Application domains:\n",
      " - Human Motion, Biometrics.\n",
      " - Course delivery and project formulation.\n",
      " Publications:\n",
      " C.-Y. Yam and M. S. Nixon, Model-based Gait Recognition, Chapter in\n",
      " Encyclopedia of Biometrics, Springer 2009\n",
      " Intel\n",
      " Senior Technical Marketing Engineer\n",
      " August 2004 - November 2006 (2 years 4 months)\n",
      " The world's largest and leader for semiconductors and microprocessors.\n",
      " - Digital Security Surveillance\n",
      " - Business Development and Partnership\n",
      " - Market Awareness for Emerging Market\n",
      " - Authored technical articles\n",
      " - Developed demonstration kit.\n",
      " Invention Disclosure:\n",
      " - IP.COM, “Method for human-to-computer interaction by LIDAR-based gesture\n",
      " recognition and interpretation.” IPCOM000143795D, 2006.\n",
      " A*STAR - Agency for Science, Technology and Research\n",
      " Research Fellow\n",
      " April 2003 - July 2004 (1 year 4 months)\n",
      " Signal processing, statistics.\n",
      " Application domains:\n",
      " - Micro-array Analysis, Bioinformatics.\n",
      " - Requirement Analysis and Software Design.\n",
      " Publication:\n",
      " Page 5 of 7\n",
      " S-W Chua, P. Vijayakumar, P. M. Nissom, C.-Y. Yam, V. V. T. Wong and\n",
      " Htraction.\n",
      " - Empirical and analytical modelling.\n",
      " - Authored and presented technical papers.\n",
      " - Contributed to Image Processing and Biometrics books.\n",
      " Tools: Matlab, C, Java, Java Advanced Imaging (JAI).\n",
      " Publications:\n",
      " C.-Y. Yam, M. S. Nixon and J. N. Carter, Extended Model-based Automatic\n",
      " Gait Recognition of Walking and Running, 3rd Proc. Audio- and Video-Based\n",
      " Biometric Person Authentication, pp 284-294, 2001.\n",
      " Education\n",
      " University of Southampton\n",
      " Ph.D., Computer Vision, Image Processing, Human Motion Modelling,\n",
      " Biometrics · (1999 - 2002)\n",
      " University of Southampton\n",
      " B. Eng., Computer Engineering · (1997 - 1999)\n",
      " Page 7 of 7\n",
      "\n"
     ]
    }
   ],
   "source": [
    "fname = \"../data/resume.txt\"\n",
    "encodings = ['utf-8', 'latin-1', 'utf-16']\n",
    "\n",
    "for encoding in encodings:\n",
    "    try:\n",
    "        with open(fname, 'r', encoding=encoding) as f:\n",
    "            document = f.readlines()\n",
    "        \n",
    "        # convert list to str\n",
    "        document = ' '.join(document)\n",
    "        print(document)\n",
    "        break  # Stop looping if the file is successfully read\n",
    "    except UnicodeError:\n",
    "        continue  # Move to the next encoding if there is a Unicode error\n"
   ]
  },
  {
   "cell_type": "code",
   "execution_count": 9,
   "metadata": {},
   "outputs": [],
   "source": [
    "# prompt\n",
    "prompt_postfix = \"\"\" <document>\n",
    "  \\n###\n",
    "  \\nExtract the key sections from the resume above into json.\n",
    "\"\"\"\n",
    "structured_data = get_structured_data(document, prompt_postfix, deployment_id)"
   ]
  },
  {
   "cell_type": "code",
   "execution_count": 10,
   "metadata": {},
   "outputs": [
    {
     "name": "stdout",
     "output_type": "stream",
     "text": [
      "{\n",
      "  \"Contact\": {\n",
      "    \"Email\": \"chew.yean.yam@gmail.com\",\n",
      "    \"LinkedIn\": \"www.linkedin.com/in/cyyam\"\n",
      "  },\n",
      "  \"Top Skills\": [\n",
      "    \"Research\",\n",
      "    \"Microarray Analysis\",\n",
      "    \"OpenCV\"\n",
      "  ],\n",
      "  \"Languages\": {\n",
      "    \"English\": \"Native or Bilingual\",\n",
      "    \"Malay\": \"Professional Working\",\n",
      "    \"Mandarin\": \"Native or Bilingual\",\n",
      "    \"Cantonese\": \"Native or Bilingual\"\n",
      "  },\n",
      "  \"Certifications\": [\n",
      "    \"Uncovering Your Authentic Self at Work\",\n",
      "    \"Worldwide Communities - Community SME 2018\",\n",
      "    \"Fred Kofman on Managing Conflict\"\n",
      "  ],\n",
      "  \"Experience\": {\n",
      "    \"Microsoft\": {\n",
      "      \"Duration\": \"8 years 2 months\",\n",
      "      \"Role\": \"AI Leader & Practitioner | Data Science | Machine Learning | AI Strategy\"\n",
      "    },\n",
      "    \"Bristol Data Science and Machine Learning Study Group\": {\n",
      "      \"Location\": \"Bristol, United Kingdom\",\n",
      "      \"Description\": \"Empower every single person in Bristol and surrounding areas to achieve quality Machine Learning and Data Science knowledge.\"\n",
      "    },\n",
      "    \"Hewlett-Packard Laboratories\": {\n",
      "      \"Duration\": \"2 years\",\n",
      "      \"Role\": \"Research Scientist\",\n",
      "      \"Application Domains\": [\n",
      "        \"Cloud Computing Stewardship and Economics\"\n",
      "      ]\n",
      "    },\n",
      "    \"National Physical Laboratory\": {\n",
      "      \"Duration\": \"3 years 9 months\",\n",
      "      \"Role\": \"Higher Research Scientist\",\n",
      "      \"Application Domains\": [\n",
      "        \"Biometrics\",\n",
      "        \"Anti-Counterfeit\",\n",
      "        \"Error Analysis in 3-D Face Reconstruction\",\n",
      "        \"Image Correlation\",\n",
      "        \"Uncertainty propagation through an imaging system\"\n",
      "      ],\n",
      "      \"Business Development\": [\n",
      "        \"Negotiate and liaise with international customers to win contracts\",\n",
      "        \"Translate business requirement into technical specification\"\n",
      "      ]\n",
      "    },\n",
      "    \"University of Southampton, Electronics and Computer Science\": {\n",
      "      \"Duration\": \"9 months\",\n",
      "      \"Role\": \"Research Scientist\",\n",
      "      \"Application Domains\": [\n",
      "        \"Human Motion\",\n",
      "        \"Biometrics\"\n",
      "      ]\n",
      "    },\n",
      "    \"Intel\": {\n",
      "      \"Duration\": \"2 years 4 months\",\n",
      "      \"Role\": \"Senior Technical Marketing Engineer\",\n",
      "      \"Responsibilities\": [\n",
      "        \"Digital Security Surveillance\",\n",
      "        \"Business Development and Partnership\",\n",
      "        \"Market Awareness for Emerging Market\",\n",
      "        \"Authored technical articles\",\n",
      "        \"Developed demonstration kit\"\n",
      "      ]\n",
      "    },\n",
      "    \"A*STAR - Agency for Science, Technology and Research\": {\n",
      "      \"Duration\": \"1 year 4 months\",\n",
      "      \"Role\": \"Research Fellow\",\n",
      "      \"Application Domains\": [\n",
      "        \"Micro-array Analysis\",\n",
      "        \"Bioinformatics\"\n",
      "      ]\n",
      "    }\n",
      "  },\n",
      "  \"Education\": {\n",
      "    \"University of Southampton\": [\n",
      "      {\n",
      "        \"Degree\": \"Ph.D.\",\n",
      "        \"Field of Study\": \"Computer Vision, Image Processing, Human Motion Modelling, Biometrics\",\n",
      "        \"Years\": \"1999 - 2002\"\n",
      "      },\n",
      "      {\n",
      "        \"Degree\": \"B. Eng.\",\n",
      "        \"Field of Study\": \"Computer Engineering\",\n",
      "        \"Years\": \"1997 - 1999\"\n",
      "      }\n",
      "    ]\n",
      "  }\n",
      "}\n",
      "<class 'str'>\n"
     ]
    }
   ],
   "source": [
    "print(structured_data['choices'][0]['message']['content'])\n",
    "print(type(structured_data['choices'][0]['message']['content']))\n"
   ]
  },
  {
   "cell_type": "code",
   "execution_count": 11,
   "metadata": {},
   "outputs": [],
   "source": [
    "import json\n",
    "\n",
    "output_string = structured_data['choices'][0]['message']['content']\n",
    "output_dict = json.loads(output_string)\n",
    "\n"
   ]
  },
  {
   "cell_type": "code",
   "execution_count": 12,
   "metadata": {},
   "outputs": [
    {
     "data": {
      "text/plain": [
       "dict"
      ]
     },
     "execution_count": 12,
     "metadata": {},
     "output_type": "execute_result"
    }
   ],
   "source": [
    "type(output_dict)"
   ]
  },
  {
   "cell_type": "code",
   "execution_count": null,
   "metadata": {},
   "outputs": [],
   "source": []
  },
  {
   "cell_type": "code",
   "execution_count": 13,
   "metadata": {},
   "outputs": [],
   "source": [
    "with open('data.json', 'w') as file:\n",
    "    # Write the dictionary to the JSON file\n",
    "    json.dump(output_dict, file)"
   ]
  },
  {
   "cell_type": "code",
   "execution_count": 16,
   "metadata": {},
   "outputs": [],
   "source": [
    "from flask import Flask, render_template\n",
    "import csv\n",
    "\n",
    "import pandas as pd\n",
    "import json\n",
    "\n",
    "with open('data.json') as file:\n",
    "    data = json.load(file)\n",
    "\n",
    "# creating an csv file\n",
    "df = pd.json_normalize(data)\n",
    "df.to_csv('data.csv', index=False)\n",
    "\n"
   ]
  },
  {
   "cell_type": "code",
   "execution_count": 17,
   "metadata": {
    "scrolled": true
   },
   "outputs": [
    {
     "name": "stdout",
     "output_type": "stream",
     "text": [
      " * Serving Flask app '__main__'\n",
      " * Debug mode: on\n"
     ]
    },
    {
     "name": "stderr",
     "output_type": "stream",
     "text": [
      "WARNING: This is a development server. Do not use it in a production deployment. Use a production WSGI server instead.\n",
      " * Running on http://127.0.0.1:5000\n",
      "Press CTRL+C to quit\n",
      " * Restarting with stat\n"
     ]
    },
    {
     "ename": "SystemExit",
     "evalue": "1",
     "output_type": "error",
     "traceback": [
      "An exception has occurred, use %tb to see the full traceback.\n",
      "\u001b[1;31mSystemExit\u001b[0m\u001b[1;31m:\u001b[0m 1\n"
     ]
    }
   ],
   "source": [
    "app = Flask(__name__)\n",
    "\n",
    "@app.route('/')\n",
    "def index():\n",
    "    data = []\n",
    "    with open('data.csv', 'r') as file:\n",
    "        csv_data = csv.DictReader(file)\n",
    "        for row in csv_data:\n",
    "            data.append(row)\n",
    "    return render_template('index.html', data=data)\n",
    "\n",
    "\n",
    "if __name__ == '__main__':\n",
    "    app.run(debug=True)\n"
   ]
  },
  {
   "cell_type": "code",
   "execution_count": null,
   "metadata": {},
   "outputs": [],
   "source": []
  }
 ],
 "metadata": {
  "kernelspec": {
   "display_name": "Python 3 (ipykernel)",
   "language": "python",
   "name": "python3"
  },
  "language_info": {
   "codemirror_mode": {
    "name": "ipython",
    "version": 3
   },
   "file_extension": ".py",
   "mimetype": "text/x-python",
   "name": "python",
   "nbconvert_exporter": "python",
   "pygments_lexer": "ipython3",
   "version": "3.11.4"
  },
  "vscode": {
   "interpreter": {
    "hash": "6d65a8c07f5b6469e0fc613f182488c0dccce05038bbda39e5ac9075c0454d11"
   }
  }
 },
 "nbformat": 4,
 "nbformat_minor": 2
}
